{
 "cells": [
  {
   "cell_type": "code",
   "execution_count": 1,
   "id": "6b126f01",
   "metadata": {
    "_cell_guid": "b1076dfc-b9ad-4769-8c92-a6c4dae69d19",
    "_uuid": "8f2839f25d086af736a60e9eeb907d3b93b6e0e5",
    "execution": {
     "iopub.execute_input": "2025-06-16T19:02:29.788821Z",
     "iopub.status.busy": "2025-06-16T19:02:29.788420Z",
     "iopub.status.idle": "2025-06-16T19:02:31.803935Z",
     "shell.execute_reply": "2025-06-16T19:02:31.802502Z"
    },
    "papermill": {
     "duration": 2.022332,
     "end_time": "2025-06-16T19:02:31.805948",
     "exception": false,
     "start_time": "2025-06-16T19:02:29.783616",
     "status": "completed"
    },
    "tags": []
   },
   "outputs": [
    {
     "name": "stdout",
     "output_type": "stream",
     "text": [
      "/kaggle/input/unsupervised-learning-on-country-data/Country-data.csv\n",
      "/kaggle/input/unsupervised-learning-on-country-data/data-dictionary.csv\n"
     ]
    }
   ],
   "source": [
    "# This Python 3 environment comes with many helpful analytics libraries installed\n",
    "# It is defined by the kaggle/python Docker image: https://github.com/kaggle/docker-python\n",
    "# For example, here's several helpful packages to load\n",
    "\n",
    "import numpy as np # linear algebra\n",
    "import pandas as pd # data processing, CSV file I/O (e.g. pd.read_csv)\n",
    "\n",
    "# Input data files are available in the read-only \"../input/\" directory\n",
    "# For example, running this (by clicking run or pressing Shift+Enter) will list all files under the input directory\n",
    "\n",
    "import os\n",
    "for dirname, _, filenames in os.walk('/kaggle/input'):\n",
    "    for filename in filenames:\n",
    "        print(os.path.join(dirname, filename))\n",
    "\n",
    "# You can write up to 20GB to the current directory (/kaggle/working/) that gets preserved as output when you create a version using \"Save & Run All\" \n",
    "# You can also write temporary files to /kaggle/temp/, but they won't be saved outside of the current session"
   ]
  },
  {
   "cell_type": "markdown",
   "id": "cb5e21f1",
   "metadata": {
    "papermill": {
     "duration": 0.0025,
     "end_time": "2025-06-16T19:02:31.811983",
     "exception": false,
     "start_time": "2025-06-16T19:02:31.809483",
     "status": "completed"
    },
    "tags": []
   },
   "source": [
    "Load the required libraries"
   ]
  },
  {
   "cell_type": "code",
   "execution_count": 2,
   "id": "5aa344e6",
   "metadata": {
    "execution": {
     "iopub.execute_input": "2025-06-16T19:02:31.819081Z",
     "iopub.status.busy": "2025-06-16T19:02:31.818609Z",
     "iopub.status.idle": "2025-06-16T19:02:33.633118Z",
     "shell.execute_reply": "2025-06-16T19:02:33.632197Z"
    },
    "papermill": {
     "duration": 1.820215,
     "end_time": "2025-06-16T19:02:33.634974",
     "exception": false,
     "start_time": "2025-06-16T19:02:31.814759",
     "status": "completed"
    },
    "tags": []
   },
   "outputs": [],
   "source": [
    "from sklearn.decomposition import PCA"
   ]
  },
  {
   "cell_type": "markdown",
   "id": "a03f7031",
   "metadata": {
    "papermill": {
     "duration": 0.002396,
     "end_time": "2025-06-16T19:02:33.640365",
     "exception": false,
     "start_time": "2025-06-16T19:02:33.637969",
     "status": "completed"
    },
    "tags": []
   },
   "source": [
    "# Motivation\n",
    "\n",
    "-- briefly state motivation for this dataset"
   ]
  },
  {
   "cell_type": "markdown",
   "id": "06dc3c2d",
   "metadata": {
    "papermill": {
     "duration": 0.002274,
     "end_time": "2025-06-16T19:02:33.645100",
     "exception": false,
     "start_time": "2025-06-16T19:02:33.642826",
     "status": "completed"
    },
    "tags": []
   },
   "source": [
    "# Import and inspect the data"
   ]
  },
  {
   "cell_type": "code",
   "execution_count": 3,
   "id": "2b5ddf7e",
   "metadata": {
    "execution": {
     "iopub.execute_input": "2025-06-16T19:02:33.651368Z",
     "iopub.status.busy": "2025-06-16T19:02:33.650899Z",
     "iopub.status.idle": "2025-06-16T19:02:33.696078Z",
     "shell.execute_reply": "2025-06-16T19:02:33.695127Z"
    },
    "papermill": {
     "duration": 0.050357,
     "end_time": "2025-06-16T19:02:33.697785",
     "exception": false,
     "start_time": "2025-06-16T19:02:33.647428",
     "status": "completed"
    },
    "tags": []
   },
   "outputs": [
    {
     "data": {
      "text/html": [
       "<div>\n",
       "<style scoped>\n",
       "    .dataframe tbody tr th:only-of-type {\n",
       "        vertical-align: middle;\n",
       "    }\n",
       "\n",
       "    .dataframe tbody tr th {\n",
       "        vertical-align: top;\n",
       "    }\n",
       "\n",
       "    .dataframe thead th {\n",
       "        text-align: right;\n",
       "    }\n",
       "</style>\n",
       "<table border=\"1\" class=\"dataframe\">\n",
       "  <thead>\n",
       "    <tr style=\"text-align: right;\">\n",
       "      <th></th>\n",
       "      <th>country</th>\n",
       "      <th>child_mort</th>\n",
       "      <th>exports</th>\n",
       "      <th>health</th>\n",
       "      <th>imports</th>\n",
       "      <th>income</th>\n",
       "      <th>inflation</th>\n",
       "      <th>life_expec</th>\n",
       "      <th>total_fer</th>\n",
       "      <th>gdpp</th>\n",
       "    </tr>\n",
       "  </thead>\n",
       "  <tbody>\n",
       "    <tr>\n",
       "      <th>0</th>\n",
       "      <td>Afghanistan</td>\n",
       "      <td>90.2</td>\n",
       "      <td>10.0</td>\n",
       "      <td>7.58</td>\n",
       "      <td>44.9</td>\n",
       "      <td>1610</td>\n",
       "      <td>9.44</td>\n",
       "      <td>56.2</td>\n",
       "      <td>5.82</td>\n",
       "      <td>553</td>\n",
       "    </tr>\n",
       "    <tr>\n",
       "      <th>1</th>\n",
       "      <td>Albania</td>\n",
       "      <td>16.6</td>\n",
       "      <td>28.0</td>\n",
       "      <td>6.55</td>\n",
       "      <td>48.6</td>\n",
       "      <td>9930</td>\n",
       "      <td>4.49</td>\n",
       "      <td>76.3</td>\n",
       "      <td>1.65</td>\n",
       "      <td>4090</td>\n",
       "    </tr>\n",
       "    <tr>\n",
       "      <th>2</th>\n",
       "      <td>Algeria</td>\n",
       "      <td>27.3</td>\n",
       "      <td>38.4</td>\n",
       "      <td>4.17</td>\n",
       "      <td>31.4</td>\n",
       "      <td>12900</td>\n",
       "      <td>16.10</td>\n",
       "      <td>76.5</td>\n",
       "      <td>2.89</td>\n",
       "      <td>4460</td>\n",
       "    </tr>\n",
       "    <tr>\n",
       "      <th>3</th>\n",
       "      <td>Angola</td>\n",
       "      <td>119.0</td>\n",
       "      <td>62.3</td>\n",
       "      <td>2.85</td>\n",
       "      <td>42.9</td>\n",
       "      <td>5900</td>\n",
       "      <td>22.40</td>\n",
       "      <td>60.1</td>\n",
       "      <td>6.16</td>\n",
       "      <td>3530</td>\n",
       "    </tr>\n",
       "    <tr>\n",
       "      <th>4</th>\n",
       "      <td>Antigua and Barbuda</td>\n",
       "      <td>10.3</td>\n",
       "      <td>45.5</td>\n",
       "      <td>6.03</td>\n",
       "      <td>58.9</td>\n",
       "      <td>19100</td>\n",
       "      <td>1.44</td>\n",
       "      <td>76.8</td>\n",
       "      <td>2.13</td>\n",
       "      <td>12200</td>\n",
       "    </tr>\n",
       "  </tbody>\n",
       "</table>\n",
       "</div>"
      ],
      "text/plain": [
       "               country  child_mort  exports  health  imports  income  \\\n",
       "0          Afghanistan        90.2     10.0    7.58     44.9    1610   \n",
       "1              Albania        16.6     28.0    6.55     48.6    9930   \n",
       "2              Algeria        27.3     38.4    4.17     31.4   12900   \n",
       "3               Angola       119.0     62.3    2.85     42.9    5900   \n",
       "4  Antigua and Barbuda        10.3     45.5    6.03     58.9   19100   \n",
       "\n",
       "   inflation  life_expec  total_fer   gdpp  \n",
       "0       9.44        56.2       5.82    553  \n",
       "1       4.49        76.3       1.65   4090  \n",
       "2      16.10        76.5       2.89   4460  \n",
       "3      22.40        60.1       6.16   3530  \n",
       "4       1.44        76.8       2.13  12200  "
      ]
     },
     "execution_count": 3,
     "metadata": {},
     "output_type": "execute_result"
    }
   ],
   "source": [
    "data = pd.read_csv(\"/kaggle/input/unsupervised-learning-on-country-data/Country-data.csv\")\n",
    "\n",
    "data.head()"
   ]
  },
  {
   "cell_type": "markdown",
   "id": "f4551d3c",
   "metadata": {
    "papermill": {
     "duration": 0.002582,
     "end_time": "2025-06-16T19:02:33.703573",
     "exception": false,
     "start_time": "2025-06-16T19:02:33.700991",
     "status": "completed"
    },
    "tags": []
   },
   "source": [
    "I would like to get some more information on the data and the columns"
   ]
  },
  {
   "cell_type": "code",
   "execution_count": 4,
   "id": "341e1eda",
   "metadata": {
    "execution": {
     "iopub.execute_input": "2025-06-16T19:02:33.710521Z",
     "iopub.status.busy": "2025-06-16T19:02:33.710100Z",
     "iopub.status.idle": "2025-06-16T19:02:33.736112Z",
     "shell.execute_reply": "2025-06-16T19:02:33.734912Z"
    },
    "papermill": {
     "duration": 0.031639,
     "end_time": "2025-06-16T19:02:33.737848",
     "exception": false,
     "start_time": "2025-06-16T19:02:33.706209",
     "status": "completed"
    },
    "tags": []
   },
   "outputs": [
    {
     "name": "stdout",
     "output_type": "stream",
     "text": [
      "<class 'pandas.core.frame.DataFrame'>\n",
      "RangeIndex: 167 entries, 0 to 166\n",
      "Data columns (total 10 columns):\n",
      " #   Column      Non-Null Count  Dtype  \n",
      "---  ------      --------------  -----  \n",
      " 0   country     167 non-null    object \n",
      " 1   child_mort  167 non-null    float64\n",
      " 2   exports     167 non-null    float64\n",
      " 3   health      167 non-null    float64\n",
      " 4   imports     167 non-null    float64\n",
      " 5   income      167 non-null    int64  \n",
      " 6   inflation   167 non-null    float64\n",
      " 7   life_expec  167 non-null    float64\n",
      " 8   total_fer   167 non-null    float64\n",
      " 9   gdpp        167 non-null    int64  \n",
      "dtypes: float64(7), int64(2), object(1)\n",
      "memory usage: 13.2+ KB\n"
     ]
    }
   ],
   "source": [
    "data.info()"
   ]
  },
  {
   "cell_type": "markdown",
   "id": "c285407a",
   "metadata": {
    "papermill": {
     "duration": 0.002765,
     "end_time": "2025-06-16T19:02:33.743879",
     "exception": false,
     "start_time": "2025-06-16T19:02:33.741114",
     "status": "completed"
    },
    "tags": []
   },
   "source": [
    "# Data Visualisation and Cleaning\n",
    "\n",
    "1. Find all missing values\n",
    "2.  Visualise important variables"
   ]
  },
  {
   "cell_type": "markdown",
   "id": "69ac2301",
   "metadata": {
    "papermill": {
     "duration": 0.002442,
     "end_time": "2025-06-16T19:02:33.749201",
     "exception": false,
     "start_time": "2025-06-16T19:02:33.746759",
     "status": "completed"
    },
    "tags": []
   },
   "source": [
    "# Standardize the data with mean 0"
   ]
  },
  {
   "cell_type": "markdown",
   "id": "7d272b7f",
   "metadata": {
    "papermill": {
     "duration": 0.002554,
     "end_time": "2025-06-16T19:02:33.754431",
     "exception": false,
     "start_time": "2025-06-16T19:02:33.751877",
     "status": "completed"
    },
    "tags": []
   },
   "source": [
    "# PCA"
   ]
  },
  {
   "cell_type": "markdown",
   "id": "d41c5a92",
   "metadata": {
    "papermill": {
     "duration": 0.00249,
     "end_time": "2025-06-16T19:02:33.760981",
     "exception": false,
     "start_time": "2025-06-16T19:02:33.758491",
     "status": "completed"
    },
    "tags": []
   },
   "source": [
    "# K-means"
   ]
  },
  {
   "cell_type": "markdown",
   "id": "da0b836b",
   "metadata": {
    "papermill": {
     "duration": 0.00246,
     "end_time": "2025-06-16T19:02:33.766132",
     "exception": false,
     "start_time": "2025-06-16T19:02:33.763672",
     "status": "completed"
    },
    "tags": []
   },
   "source": [
    "# Comparison?"
   ]
  }
 ],
 "metadata": {
  "kaggle": {
   "accelerator": "none",
   "dataSources": [
    {
     "datasetId": 721951,
     "sourceId": 1255613,
     "sourceType": "datasetVersion"
    }
   ],
   "dockerImageVersionId": 31040,
   "isGpuEnabled": false,
   "isInternetEnabled": true,
   "language": "python",
   "sourceType": "notebook"
  },
  "kernelspec": {
   "display_name": "Python 3",
   "language": "python",
   "name": "python3"
  },
  "language_info": {
   "codemirror_mode": {
    "name": "ipython",
    "version": 3
   },
   "file_extension": ".py",
   "mimetype": "text/x-python",
   "name": "python",
   "nbconvert_exporter": "python",
   "pygments_lexer": "ipython3",
   "version": "3.11.11"
  },
  "papermill": {
   "default_parameters": {},
   "duration": 9.87212,
   "end_time": "2025-06-16T19:02:34.492179",
   "environment_variables": {},
   "exception": null,
   "input_path": "__notebook__.ipynb",
   "output_path": "__notebook__.ipynb",
   "parameters": {},
   "start_time": "2025-06-16T19:02:24.620059",
   "version": "2.6.0"
  }
 },
 "nbformat": 4,
 "nbformat_minor": 5
}
