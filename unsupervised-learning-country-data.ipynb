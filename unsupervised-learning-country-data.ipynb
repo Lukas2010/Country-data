{
 "cells": [
  {
   "cell_type": "code",
   "execution_count": 1,
   "id": "adc113a9",
   "metadata": {
    "_cell_guid": "b1076dfc-b9ad-4769-8c92-a6c4dae69d19",
    "_uuid": "8f2839f25d086af736a60e9eeb907d3b93b6e0e5",
    "execution": {
     "iopub.execute_input": "2025-06-16T19:38:38.823941Z",
     "iopub.status.busy": "2025-06-16T19:38:38.823628Z",
     "iopub.status.idle": "2025-06-16T19:38:40.852532Z",
     "shell.execute_reply": "2025-06-16T19:38:40.851268Z"
    },
    "papermill": {
     "duration": 2.035095,
     "end_time": "2025-06-16T19:38:40.854103",
     "exception": false,
     "start_time": "2025-06-16T19:38:38.819008",
     "status": "completed"
    },
    "tags": []
   },
   "outputs": [
    {
     "name": "stdout",
     "output_type": "stream",
     "text": [
      "/kaggle/input/unsupervised-learning-on-country-data/Country-data.csv\n",
      "/kaggle/input/unsupervised-learning-on-country-data/data-dictionary.csv\n"
     ]
    }
   ],
   "source": [
    "# This Python 3 environment comes with many helpful analytics libraries installed\n",
    "# It is defined by the kaggle/python Docker image: https://github.com/kaggle/docker-python\n",
    "# For example, here's several helpful packages to load\n",
    "\n",
    "import numpy as np # linear algebra\n",
    "import pandas as pd # data processing, CSV file I/O (e.g. pd.read_csv)\n",
    "\n",
    "# Input data files are available in the read-only \"../input/\" directory\n",
    "# For example, running this (by clicking run or pressing Shift+Enter) will list all files under the input directory\n",
    "\n",
    "import os\n",
    "for dirname, _, filenames in os.walk('/kaggle/input'):\n",
    "    for filename in filenames:\n",
    "        print(os.path.join(dirname, filename))\n",
    "\n",
    "# You can write up to 20GB to the current directory (/kaggle/working/) that gets preserved as output when you create a version using \"Save & Run All\" \n",
    "# You can also write temporary files to /kaggle/temp/, but they won't be saved outside of the current session"
   ]
  },
  {
   "cell_type": "markdown",
   "id": "0d7ea012",
   "metadata": {
    "papermill": {
     "duration": 0.002548,
     "end_time": "2025-06-16T19:38:40.860217",
     "exception": false,
     "start_time": "2025-06-16T19:38:40.857669",
     "status": "completed"
    },
    "tags": []
   },
   "source": [
    "Load the required libraries"
   ]
  },
  {
   "cell_type": "code",
   "execution_count": 2,
   "id": "fa5355d8",
   "metadata": {
    "execution": {
     "iopub.execute_input": "2025-06-16T19:38:40.867600Z",
     "iopub.status.busy": "2025-06-16T19:38:40.867139Z",
     "iopub.status.idle": "2025-06-16T19:38:42.778238Z",
     "shell.execute_reply": "2025-06-16T19:38:42.777211Z"
    },
    "papermill": {
     "duration": 1.916866,
     "end_time": "2025-06-16T19:38:42.780013",
     "exception": false,
     "start_time": "2025-06-16T19:38:40.863147",
     "status": "completed"
    },
    "tags": []
   },
   "outputs": [],
   "source": [
    "from sklearn.decomposition import PCA\n",
    "import matplotlib.pyplot as plt"
   ]
  },
  {
   "cell_type": "markdown",
   "id": "25ce0d50",
   "metadata": {
    "papermill": {
     "duration": 0.002659,
     "end_time": "2025-06-16T19:38:42.785784",
     "exception": false,
     "start_time": "2025-06-16T19:38:42.783125",
     "status": "completed"
    },
    "tags": []
   },
   "source": [
    "# Motivation\n",
    "\n",
    "-- briefly state motivation for this dataset"
   ]
  },
  {
   "cell_type": "markdown",
   "id": "5daa9526",
   "metadata": {
    "papermill": {
     "duration": 0.002779,
     "end_time": "2025-06-16T19:38:42.791503",
     "exception": false,
     "start_time": "2025-06-16T19:38:42.788724",
     "status": "completed"
    },
    "tags": []
   },
   "source": [
    "# Import and inspect the data"
   ]
  },
  {
   "cell_type": "code",
   "execution_count": 3,
   "id": "5278899a",
   "metadata": {
    "execution": {
     "iopub.execute_input": "2025-06-16T19:38:42.799476Z",
     "iopub.status.busy": "2025-06-16T19:38:42.798995Z",
     "iopub.status.idle": "2025-06-16T19:38:42.841065Z",
     "shell.execute_reply": "2025-06-16T19:38:42.840168Z"
    },
    "papermill": {
     "duration": 0.04769,
     "end_time": "2025-06-16T19:38:42.842719",
     "exception": false,
     "start_time": "2025-06-16T19:38:42.795029",
     "status": "completed"
    },
    "tags": []
   },
   "outputs": [
    {
     "data": {
      "text/html": [
       "<div>\n",
       "<style scoped>\n",
       "    .dataframe tbody tr th:only-of-type {\n",
       "        vertical-align: middle;\n",
       "    }\n",
       "\n",
       "    .dataframe tbody tr th {\n",
       "        vertical-align: top;\n",
       "    }\n",
       "\n",
       "    .dataframe thead th {\n",
       "        text-align: right;\n",
       "    }\n",
       "</style>\n",
       "<table border=\"1\" class=\"dataframe\">\n",
       "  <thead>\n",
       "    <tr style=\"text-align: right;\">\n",
       "      <th></th>\n",
       "      <th>country</th>\n",
       "      <th>child_mort</th>\n",
       "      <th>exports</th>\n",
       "      <th>health</th>\n",
       "      <th>imports</th>\n",
       "      <th>income</th>\n",
       "      <th>inflation</th>\n",
       "      <th>life_expec</th>\n",
       "      <th>total_fer</th>\n",
       "      <th>gdpp</th>\n",
       "    </tr>\n",
       "  </thead>\n",
       "  <tbody>\n",
       "    <tr>\n",
       "      <th>0</th>\n",
       "      <td>Afghanistan</td>\n",
       "      <td>90.2</td>\n",
       "      <td>10.0</td>\n",
       "      <td>7.58</td>\n",
       "      <td>44.9</td>\n",
       "      <td>1610</td>\n",
       "      <td>9.44</td>\n",
       "      <td>56.2</td>\n",
       "      <td>5.82</td>\n",
       "      <td>553</td>\n",
       "    </tr>\n",
       "    <tr>\n",
       "      <th>1</th>\n",
       "      <td>Albania</td>\n",
       "      <td>16.6</td>\n",
       "      <td>28.0</td>\n",
       "      <td>6.55</td>\n",
       "      <td>48.6</td>\n",
       "      <td>9930</td>\n",
       "      <td>4.49</td>\n",
       "      <td>76.3</td>\n",
       "      <td>1.65</td>\n",
       "      <td>4090</td>\n",
       "    </tr>\n",
       "    <tr>\n",
       "      <th>2</th>\n",
       "      <td>Algeria</td>\n",
       "      <td>27.3</td>\n",
       "      <td>38.4</td>\n",
       "      <td>4.17</td>\n",
       "      <td>31.4</td>\n",
       "      <td>12900</td>\n",
       "      <td>16.10</td>\n",
       "      <td>76.5</td>\n",
       "      <td>2.89</td>\n",
       "      <td>4460</td>\n",
       "    </tr>\n",
       "    <tr>\n",
       "      <th>3</th>\n",
       "      <td>Angola</td>\n",
       "      <td>119.0</td>\n",
       "      <td>62.3</td>\n",
       "      <td>2.85</td>\n",
       "      <td>42.9</td>\n",
       "      <td>5900</td>\n",
       "      <td>22.40</td>\n",
       "      <td>60.1</td>\n",
       "      <td>6.16</td>\n",
       "      <td>3530</td>\n",
       "    </tr>\n",
       "    <tr>\n",
       "      <th>4</th>\n",
       "      <td>Antigua and Barbuda</td>\n",
       "      <td>10.3</td>\n",
       "      <td>45.5</td>\n",
       "      <td>6.03</td>\n",
       "      <td>58.9</td>\n",
       "      <td>19100</td>\n",
       "      <td>1.44</td>\n",
       "      <td>76.8</td>\n",
       "      <td>2.13</td>\n",
       "      <td>12200</td>\n",
       "    </tr>\n",
       "  </tbody>\n",
       "</table>\n",
       "</div>"
      ],
      "text/plain": [
       "               country  child_mort  exports  health  imports  income  \\\n",
       "0          Afghanistan        90.2     10.0    7.58     44.9    1610   \n",
       "1              Albania        16.6     28.0    6.55     48.6    9930   \n",
       "2              Algeria        27.3     38.4    4.17     31.4   12900   \n",
       "3               Angola       119.0     62.3    2.85     42.9    5900   \n",
       "4  Antigua and Barbuda        10.3     45.5    6.03     58.9   19100   \n",
       "\n",
       "   inflation  life_expec  total_fer   gdpp  \n",
       "0       9.44        56.2       5.82    553  \n",
       "1       4.49        76.3       1.65   4090  \n",
       "2      16.10        76.5       2.89   4460  \n",
       "3      22.40        60.1       6.16   3530  \n",
       "4       1.44        76.8       2.13  12200  "
      ]
     },
     "execution_count": 3,
     "metadata": {},
     "output_type": "execute_result"
    }
   ],
   "source": [
    "data = pd.read_csv(\"/kaggle/input/unsupervised-learning-on-country-data/Country-data.csv\")\n",
    "\n",
    "data.head()"
   ]
  },
  {
   "cell_type": "markdown",
   "id": "bd2018ab",
   "metadata": {
    "papermill": {
     "duration": 0.002801,
     "end_time": "2025-06-16T19:38:42.848670",
     "exception": false,
     "start_time": "2025-06-16T19:38:42.845869",
     "status": "completed"
    },
    "tags": []
   },
   "source": [
    "I would like to get some more information on the data and the columns"
   ]
  },
  {
   "cell_type": "code",
   "execution_count": 4,
   "id": "2bad3d16",
   "metadata": {
    "execution": {
     "iopub.execute_input": "2025-06-16T19:38:42.856454Z",
     "iopub.status.busy": "2025-06-16T19:38:42.856028Z",
     "iopub.status.idle": "2025-06-16T19:38:42.881805Z",
     "shell.execute_reply": "2025-06-16T19:38:42.880733Z"
    },
    "papermill": {
     "duration": 0.031571,
     "end_time": "2025-06-16T19:38:42.883494",
     "exception": false,
     "start_time": "2025-06-16T19:38:42.851923",
     "status": "completed"
    },
    "tags": []
   },
   "outputs": [
    {
     "name": "stdout",
     "output_type": "stream",
     "text": [
      "<class 'pandas.core.frame.DataFrame'>\n",
      "RangeIndex: 167 entries, 0 to 166\n",
      "Data columns (total 10 columns):\n",
      " #   Column      Non-Null Count  Dtype  \n",
      "---  ------      --------------  -----  \n",
      " 0   country     167 non-null    object \n",
      " 1   child_mort  167 non-null    float64\n",
      " 2   exports     167 non-null    float64\n",
      " 3   health      167 non-null    float64\n",
      " 4   imports     167 non-null    float64\n",
      " 5   income      167 non-null    int64  \n",
      " 6   inflation   167 non-null    float64\n",
      " 7   life_expec  167 non-null    float64\n",
      " 8   total_fer   167 non-null    float64\n",
      " 9   gdpp        167 non-null    int64  \n",
      "dtypes: float64(7), int64(2), object(1)\n",
      "memory usage: 13.2+ KB\n"
     ]
    }
   ],
   "source": [
    "data.info()"
   ]
  },
  {
   "cell_type": "markdown",
   "id": "5a36fb9e",
   "metadata": {
    "papermill": {
     "duration": 0.002789,
     "end_time": "2025-06-16T19:38:42.889736",
     "exception": false,
     "start_time": "2025-06-16T19:38:42.886947",
     "status": "completed"
    },
    "tags": []
   },
   "source": [
    "# Data Visualisation and Cleaning\n",
    "\n",
    "1. Find all missing values\n",
    "2.  Visualise important variables"
   ]
  },
  {
   "cell_type": "code",
   "execution_count": 5,
   "id": "3d4e8e58",
   "metadata": {
    "execution": {
     "iopub.execute_input": "2025-06-16T19:38:42.896980Z",
     "iopub.status.busy": "2025-06-16T19:38:42.896672Z",
     "iopub.status.idle": "2025-06-16T19:38:42.902963Z",
     "shell.execute_reply": "2025-06-16T19:38:42.902059Z"
    },
    "papermill": {
     "duration": 0.011515,
     "end_time": "2025-06-16T19:38:42.904286",
     "exception": false,
     "start_time": "2025-06-16T19:38:42.892771",
     "status": "completed"
    },
    "tags": []
   },
   "outputs": [
    {
     "name": "stdout",
     "output_type": "stream",
     "text": [
      "There are in total 0 missing values in this dataset\n"
     ]
    }
   ],
   "source": [
    "# 1. Missing values\n",
    "\n",
    "print(\"There are in total\", data.isnull().sum().sum(), \"missing values in this dataset\")"
   ]
  },
  {
   "cell_type": "code",
   "execution_count": 6,
   "id": "a1a30a07",
   "metadata": {
    "execution": {
     "iopub.execute_input": "2025-06-16T19:38:42.911910Z",
     "iopub.status.busy": "2025-06-16T19:38:42.911609Z",
     "iopub.status.idle": "2025-06-16T19:38:43.442133Z",
     "shell.execute_reply": "2025-06-16T19:38:43.441239Z"
    },
    "papermill": {
     "duration": 0.536215,
     "end_time": "2025-06-16T19:38:43.443801",
     "exception": false,
     "start_time": "2025-06-16T19:38:42.907586",
     "status": "completed"
    },
    "tags": []
   },
   "outputs": [
    {
     "name": "stdout",
     "output_type": "stream",
     "text": [
      "          country  child_mort\n",
      "68        Iceland         2.6\n",
      "91     Luxembourg         2.8\n",
      "133     Singapore         2.8\n",
      "32           Chad       150.0\n",
      "132  Sierra Leone       160.0\n",
      "66          Haiti       208.0\n"
     ]
    },
    {
     "data": {
      "image/png": "[encoded data removed]",
      "text/plain": [
       "<Figure size 1200x500 with 2 Axes>"
      ]
     },
     "metadata": {},
     "output_type": "display_data"
    }
   ],
   "source": [
    "# 2. Visualisation\n",
    "\n",
    "# Countries with highest and lowest child mortality\n",
    "\n",
    "child_mort_comp = data.sort_values(by = [\"child_mort\"]).loc[:,[\"country\", \"child_mort\"]].iloc[[0,1,2,164,165,166],:]\n",
    "\n",
    "print(child_mort_comp)\n",
    "\n",
    "fig,axs = plt.subplots(1,2,figsize=(12, 5))\n",
    "\n",
    "axs[0].bar(child_mort_comp.iloc[0:3,0], child_mort_comp.iloc[0:3,1])\n",
    "axs[0].set_title(\"Countries with lowest child mortality\")\n",
    "axs[0].set_xlabel(\"Country names\")\n",
    "axs[0].set_ylabel(\"Child mortality per 1000 births\")\n",
    "\n",
    "axs[1].bar(child_mort_comp.iloc[3:6,0], child_mort_comp.iloc[3:6,1])\n",
    "axs[1].set_title(\"Countries with highest child mortality\")\n",
    "axs[1].set_xlabel(\"Country names\")\n",
    "axs[1].set_ylabel(\"Child mortality per 1000 births\")\n",
    "\n",
    "fig.suptitle(\"Child Mortality Comparison\")\n",
    "\n",
    "plt.show()\n"
   ]
  },
  {
   "cell_type": "markdown",
   "id": "244416ad",
   "metadata": {
    "papermill": {
     "duration": 0.003514,
     "end_time": "2025-06-16T19:38:43.451300",
     "exception": false,
     "start_time": "2025-06-16T19:38:43.447786",
     "status": "completed"
    },
    "tags": []
   },
   "source": [
    "# Standardize the data with mean 0"
   ]
  },
  {
   "cell_type": "markdown",
   "id": "23746172",
   "metadata": {
    "papermill": {
     "duration": 0.003571,
     "end_time": "2025-06-16T19:38:43.458640",
     "exception": false,
     "start_time": "2025-06-16T19:38:43.455069",
     "status": "completed"
    },
    "tags": []
   },
   "source": [
    "# PCA"
   ]
  },
  {
   "cell_type": "markdown",
   "id": "4b3b1857",
   "metadata": {
    "papermill": {
     "duration": 0.003476,
     "end_time": "2025-06-16T19:38:43.465862",
     "exception": false,
     "start_time": "2025-06-16T19:38:43.462386",
     "status": "completed"
    },
    "tags": []
   },
   "source": [
    "# K-means"
   ]
  },
  {
   "cell_type": "markdown",
   "id": "8cd0b628",
   "metadata": {
    "papermill": {
     "duration": 0.003946,
     "end_time": "2025-06-16T19:38:43.473566",
     "exception": false,
     "start_time": "2025-06-16T19:38:43.469620",
     "status": "completed"
    },
    "tags": []
   },
   "source": [
    "# Comparison?"
   ]
  }
 ],
 "metadata": {
  "kaggle": {
   "accelerator": "none",
   "dataSources": [
    {
     "datasetId": 721951,
     "sourceId": 1255613,
     "sourceType": "datasetVersion"
    }
   ],
   "dockerImageVersionId": 31040,
   "isGpuEnabled": false,
   "isInternetEnabled": true,
   "language": "python",
   "sourceType": "notebook"
  },
  "kernelspec": {
   "display_name": "Python 3",
   "language": "python",
   "name": "python3"
  },
  "language_info": {
   "codemirror_mode": {
    "name": "ipython",
    "version": 3
   },
   "file_extension": ".py",
   "mimetype": "text/x-python",
   "name": "python",
   "nbconvert_exporter": "python",
   "pygments_lexer": "ipython3",
   "version": "3.11.11"
  },
  "papermill": {
   "default_parameters": {},
   "duration": 10.427671,
   "end_time": "2025-06-16T19:38:44.197356",
   "environment_variables": {},
   "exception": null,
   "input_path": "__notebook__.ipynb",
   "output_path": "__notebook__.ipynb",
   "parameters": {},
   "start_time": "2025-06-16T19:38:33.769685",
   "version": "2.6.0"
  }
 },
 "nbformat": 4,
 "nbformat_minor": 5
}
